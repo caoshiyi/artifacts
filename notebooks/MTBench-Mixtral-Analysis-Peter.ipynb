{
 "cells": [
  {
   "cell_type": "code",
   "execution_count": null,
   "id": "394e1a7f-05b0-44fb-8225-53efeca6877e",
   "metadata": {},
   "outputs": [],
   "source": [
    "import re\n",
    "import matplotlib.pyplot as plt\n",
    "import seaborn as sns\n",
    "import pandas as pd\n",
    "import numpy as np\n",
    "import itertools\n",
    "from typing import Sequence\n",
    "import functools\n",
    "\n",
    "from dataclasses import dataclass\n",
    "\n",
    "import os\n",
    "import sys\n",
    "if \"notebooks\" in os.path.abspath('.'):\n",
    "    sys.path.append('../')\n",
    "from traces import mtbench_mixtral_utils"
   ]
  },
  {
   "cell_type": "code",
   "execution_count": null,
   "id": "36212161",
   "metadata": {},
   "outputs": [],
   "source": [
    "traces = mtbench_mixtral_utils.load_all()"
   ]
  },
  {
   "cell_type": "code",
   "execution_count": null,
   "id": "88ed6a8b-7235-456f-9dcd-79de73cbe284",
   "metadata": {},
   "outputs": [],
   "source": [
    "expert_counts_by_layer = sum(trace.expert_counts_by_layer() for trace in traces.values())\n",
    "expert_freq_by_layer = expert_counts_by_layer / expert_counts_by_layer.sum(axis=1)[:, np.newaxis]\n",
    "\n",
    "ax = sns.heatmap(expert_freq_by_layer, linewidths=.5, cmap='rocket_r',\n",
    "                 cbar_kws={'label': 'Frequency'})\n",
    "ax.invert_yaxis()\n",
    "ax.set_yticks(0.5 + np.arange(0, 32, 4), np.arange(0, 32, 4))\n",
    "plt.xlabel(\"Expert ID\")\n",
    "plt.ylabel(\"Layer\")\n",
    "plt.title(\"Mixtral on MTBench\")"
   ]
  },
  {
   "cell_type": "code",
   "execution_count": null,
   "id": "cd201d98-9050-4bc3-8366-0ebf0f49b77f",
   "metadata": {},
   "outputs": [],
   "source": [
    "plt.figure(figsize=(10, 4))\n",
    "sns.barplot(x=np.arange(0, 32), y=expert_freq_by_layer.std(axis=1))\n",
    "plt.xlabel(\"Layer Number\")\n",
    "plt.ylabel(\"Standard Deviation\\nof Expert Frequencies\")"
   ]
  },
  {
   "cell_type": "code",
   "execution_count": null,
   "id": "2441abf6-55ac-48b0-90d5-fecd45796854",
   "metadata": {},
   "outputs": [],
   "source": [
    "def p_next_expert_given_previous_experts(traces: dict, k=2):\n",
    "    # (layer, previous_expert_0, previous_expert_1, next_expert)\n",
    "    trace = next(iter(traces.values()))\n",
    "    combinations = list(itertools.combinations(list(range(trace.num_experts)), k))\n",
    "    num_combinations = len(combinations)\n",
    "    combination_to_idx = {c: i for i, c in enumerate(combinations)}\n",
    "    counts = np.zeros((trace.num_layers, num_combinations, trace.num_experts), dtype=np.uint32)\n",
    "    for trace_name, trace in traces.items():\n",
    "        # trace = trace.without_prefix()\n",
    "        for layer_id, cur_experts, next_experts in zip(trace.layer_ids, trace.expert_ids, trace.expert_ids[1:]):\n",
    "            # assert len(cur_experts) == 1, f'{len(cur_experts)} should be 1 for {trace_name}'\n",
    "            for per_token_cur_experts, per_token_next_experts in zip(cur_experts, next_experts):\n",
    "                combination = tuple(sorted(per_token_cur_experts))\n",
    "                combination_idx = combination_to_idx[combination]\n",
    "                counts[layer_id, combination_idx, per_token_next_experts] += 1\n",
    "\n",
    "    sum = counts.sum(axis=-1)\n",
    "    divisor = np.maximum(sum, np.ones_like(sum)) # Avoid dividing by 0\n",
    "    probabilities = counts / divisor[:, :, np.newaxis]\n",
    "    return probabilities, combination_to_idx\n",
    "\n",
    "probabilities, experts_to_idx = p_next_expert_given_previous_experts(traces)"
   ]
  },
  {
   "cell_type": "code",
   "execution_count": null,
   "id": "92146f8c-cadc-42e0-b507-2ed3595197a3",
   "metadata": {},
   "outputs": [],
   "source": [
    "def plot_probabilities(layer_id, probabilities, experts_to_idx):\n",
    "    ax = sns.heatmap(probabilities[layer_id], linewidths=.5, cmap='rocket_r',\n",
    "                     cbar_kws={'label': 'Probability'}, vmin=0, vmax=0.5)\n",
    "    ax.invert_yaxis()\n",
    "    plt.xlabel(\"Next Experts\")\n",
    "    plt.ylabel(\"Current Experts\")\n",
    "    plt.title(f\"Layer {layer_id}\")\n",
    "    \n",
    "    yticks = np.arange(0, len(experts_to_idx), 1)\n",
    "    idx_to_experts = {i: e for e, i in experts_to_idx.items()}\n",
    "    yticklabels = [idx_to_experts[i] for i in yticks]\n",
    "    ax.set_yticks(yticks + 0.5, yticklabels)\n",
    "    # plt.xticks(fontsize=5)\n",
    "    plt.yticks(rotation=0)\n",
    "    plt.show()\n",
    "    plt.close()\n",
    "\n",
    "for i in range(32):\n",
    "    plot_probabilities(i, probabilities, experts_to_idx)"
   ]
  },
  {
   "cell_type": "code",
   "execution_count": null,
   "id": "e4df3c46-be1c-47a6-bcc0-492854329127",
   "metadata": {},
   "outputs": [],
   "source": [
    "def plot_probabilities(layer_id, probabilities, experts_to_idx):\n",
    "    ax = sns.heatmap(probabilities[layer_id], linewidths=.5, cmap='rocket_r',\n",
    "                     cbar_kws={'label': 'Probability'}, vmin=0, vmax=0.5)\n",
    "    ax.invert_yaxis()\n",
    "    plt.xlabel(\"Nth Most Frequent Next Expert\")\n",
    "    plt.ylabel(\"Current Experts\")\n",
    "    plt.title(f\"Layer {layer_id}\")\n",
    "    \n",
    "    yticks = np.arange(0, len(experts_to_idx), 1)\n",
    "    idx_to_experts = {i: e for e, i in experts_to_idx.items()}\n",
    "    yticklabels = [idx_to_experts[i] for i in yticks]\n",
    "    ax.set_yticks(yticks + 0.5, yticklabels)\n",
    "    # plt.xticks(fontsize=5)\n",
    "    plt.yticks(rotation=0)\n",
    "    plt.show()\n",
    "    plt.close()\n",
    "\n",
    "sorted_probabilities = np.sort(probabilities, axis=-1)[:, :, ::-1]\n",
    "for i in range(32):\n",
    "    plot_probabilities(i, sorted_probabilities, experts_to_idx)"
   ]
  },
  {
   "cell_type": "code",
   "execution_count": null,
   "id": "aca5a981-3748-467f-8327-db2833c69ec3",
   "metadata": {},
   "outputs": [],
   "source": [
    "# Single sequence"
   ]
  },
  {
   "cell_type": "code",
   "execution_count": null,
   "id": "14ceeae9-04b5-48c4-8db5-c0b59085ca6f",
   "metadata": {},
   "outputs": [],
   "source": [
    "single_trace = {files[0]: traces[files[0]]}\n",
    "probabilities, experts_to_idx = p_next_expert_given_previous_experts(single_trace)\n",
    "sorted_probabilities = np.sort(probabilities, axis=-1)[:, :, ::-1]\n",
    "\n",
    "def plot_probabilities(layer_id, probabilities, experts_to_idx):\n",
    "    ax = sns.heatmap(probabilities[layer_id], linewidths=.5, cmap='rocket_r',\n",
    "                     cbar_kws={'label': 'Probability'}, vmin=0)\n",
    "    ax.invert_yaxis()\n",
    "    plt.xlabel(\"Nth Most Frequent Next Expert\")\n",
    "    plt.ylabel(\"Current Experts\")\n",
    "    plt.title(f\"Layer {layer_id}\")\n",
    "    \n",
    "    yticks = np.arange(0, len(experts_to_idx), 1)\n",
    "    idx_to_experts = {i: e for e, i in experts_to_idx.items()}\n",
    "    yticklabels = [idx_to_experts[i] for i in yticks]\n",
    "    ax.set_yticks(yticks + 0.5, yticklabels)\n",
    "    # plt.xticks(fontsize=5)\n",
    "    plt.yticks(rotation=0)\n",
    "    plt.show()\n",
    "    plt.close()\n",
    "\n",
    "for i in range(32):\n",
    "    plot_probabilities(i, sorted_probabilities, experts_to_idx)"
   ]
  },
  {
   "cell_type": "code",
   "execution_count": null,
   "id": "5f5cbf65",
   "metadata": {},
   "outputs": [],
   "source": [
    "def encode_selected_experts(selected_experts: Sequence[int], total_num_experts: int) -> int:\n",
    "    combinations = list(itertools.combinations(range(total_num_experts), 2))\n",
    "    combination = tuple(sorted(selected_experts))\n",
    "    return combinations.index(combination)\n",
    "\n",
    "trace = list(traces.values())[0]\n",
    "experts_per_token = trace.experts_per_token()\n",
    "experts_encoded = np.apply_along_axis(\n",
    "            lambda x: encode_selected_experts(x, trace.num_experts), -1,\n",
    "            experts_per_token)\n",
    "\n",
    "counts = np.zeros((32, 28, 28), dtype=np.int32)\n",
    "for experts, next_experts in zip(experts_encoded, experts_encoded[1:]):\n",
    "    counts[np.arange(32), experts, next_experts] += 1"
   ]
  },
  {
   "cell_type": "markdown",
   "id": "5b625aa1-154f-40ec-a3bd-dd1ffdbd60cf",
   "metadata": {},
   "source": [
    "# Principal Component Analysis"
   ]
  },
  {
   "cell_type": "code",
   "execution_count": null,
   "id": "3071192f-682f-491b-af0f-ea78b7bf6401",
   "metadata": {},
   "outputs": [],
   "source": [
    "# PCA with all sequences truncated to minimum sequence length.\n",
    "def sequence_of_experts(trace: QueryTrace) -> Sequence[Sequence[int]]:\n",
    "    experts = itertools.chain.from_iterable(trace.expert_ids)\n",
    "    return [tuple(sorted(e)) for e in experts]\n",
    "\n",
    "expert_sequences = []\n",
    "for trace in traces.values():\n",
    "    experts = sequence_of_experts(trace)\n",
    "    expert_ids = [experts_to_idx[e] for e in experts]\n",
    "\n",
    "    expert_sequences.append(expert_ids)"
   ]
  },
  {
   "cell_type": "code",
   "execution_count": null,
   "id": "19f224ec-b3ee-4637-9639-72f3918b785f",
   "metadata": {},
   "outputs": [],
   "source": [
    "min_token_length = min(t.num_tokens for t in traces.values())\n",
    "\n",
    "truncated_expert_sequences = np.array([e[:min_token_length] for e in expert_sequences])\n",
    "demeaned = truncated_expert_sequences - truncated_expert_sequences.mean(axis=-1)[:, np.newaxis]\n",
    "\n",
    "U, s, Vt = np.linalg.svd(demeaned)\n",
    "\n",
    "plt.stem(s)\n",
    "plt.title(\"Singular Values\")"
   ]
  },
  {
   "cell_type": "markdown",
   "id": "4ba74a33-6fe3-429f-80f1-c2d5d5e19b28",
   "metadata": {},
   "source": [
    "# Poor Man's Attempt at a Frequency Analysis"
   ]
  },
  {
   "cell_type": "code",
   "execution_count": null,
   "id": "8df8aaab-674d-486c-8051-92890e8cc953",
   "metadata": {},
   "outputs": [],
   "source": [
    "def sequence_of_experts(trace: QueryTrace) -> Sequence[Sequence[int]]:\n",
    "    experts = itertools.chain.from_iterable(trace.expert_ids)\n",
    "    return [tuple(sorted(e)) for e in experts]\n",
    "\n",
    "expert_sequences = []\n",
    "for trace in traces.values():\n",
    "    experts = sequence_of_experts(trace)\n",
    "    expert_ids = [experts_to_idx[e] for e in experts]\n",
    "\n",
    "    expert_sequences.append(expert_ids)\n",
    "\n",
    "    # f, Pxx_den = signal.periodogram(expert_ids)\n",
    "\n",
    "    # plt.figure()\n",
    "    # plt.semilogy(f, Pxx_den)\n",
    "    # plt.plot()"
   ]
  },
  {
   "cell_type": "code",
   "execution_count": null,
   "id": "f7dbba6b-914f-4bb8-950d-f3703aa17a42",
   "metadata": {},
   "outputs": [],
   "source": [
    "pxx_densities = [] # per sequence\n",
    "\n",
    "for s in expert_sequences:\n",
    "    f, pxx_den = signal.periodogram(s)\n",
    "    pxx_densities.append(pxx_den)\n",
    "\n",
    "pxx_densities_per_token = []\n",
    "for token_idx in range(max(map(len, expert_sequences))):\n",
    "    per_token_densities = []\n",
    "    for seq in expert_sequences:\n",
    "        if token_idx < len(seq):\n",
    "            per_token_densities.append(seq[token_idx])\n",
    "    pxx_densities_per_token.append(per_token_densities)"
   ]
  },
  {
   "cell_type": "code",
   "execution_count": null,
   "id": "287ebf30-b67e-4671-ba03-c76cc20da3c0",
   "metadata": {},
   "outputs": [],
   "source": [
    "max_tokens = len(pxx_densities_per_token[0])\n",
    "min_tokens = min(t.num_tokens for t in traces.values())\n",
    "print(min_tokens)\n",
    "print(max(t.num_tokens for t in traces.values()))\n",
    "# Variance\n",
    "vars = [np.var(s) for s in pxx_densities_per_token]\n",
    "sns.lineplot(vars)\n",
    "plt.title(\"Variance of Power Spectral Density across Sequences\")"
   ]
  },
  {
   "cell_type": "code",
   "execution_count": null,
   "id": "2507c123-4bc6-4176-89cf-a922db3ab28a",
   "metadata": {},
   "outputs": [],
   "source": [
    "sns.lineplot(vars[:10])"
   ]
  },
  {
   "cell_type": "code",
   "execution_count": null,
   "id": "783150fc-667e-4142-bbcd-4384a28be23d",
   "metadata": {},
   "outputs": [],
   "source": [
    "pxx_densities_per_token[4]"
   ]
  },
  {
   "cell_type": "code",
   "execution_count": null,
   "id": "29223900-0110-4d5f-8faa-a1187737705a",
   "metadata": {},
   "outputs": [],
   "source": [
    "vars[1]"
   ]
  },
  {
   "cell_type": "code",
   "execution_count": null,
   "id": "dc71e5f3-4779-433c-86e5-bcb4dc86bbd2",
   "metadata": {},
   "outputs": [],
   "source": [
    "sns.ecdfplot(vars)"
   ]
  },
  {
   "cell_type": "code",
   "execution_count": null,
   "id": "56ca2bf9-c088-4da4-b144-966d266c3e6c",
   "metadata": {},
   "outputs": [],
   "source": [
    "vars"
   ]
  },
  {
   "cell_type": "code",
   "execution_count": null,
   "id": "d355739f-1b00-4328-a90d-d2fe607fd567",
   "metadata": {},
   "outputs": [],
   "source": [
    "# Calculate probabilities\n",
    "sums = counts.sum(axis=-1)\n",
    "divisor = np.maximum(np.ones_like(sums), sums) # Avoid dividing by 0.\n",
    "probabilities = counts / divisor[:, np.newaxis]"
   ]
  },
  {
   "cell_type": "code",
   "execution_count": null,
   "id": "355dc10d-1a53-439e-a127-d777e54fac0b",
   "metadata": {},
   "outputs": [],
   "source": [
    "probabilities"
   ]
  },
  {
   "cell_type": "code",
   "execution_count": null,
   "id": "ddb3c78d-0426-4229-9a42-8b5e5483f13a",
   "metadata": {},
   "outputs": [],
   "source": [
    "len(list(itertools.combinations(list(range(8)), 2)))"
   ]
  },
  {
   "cell_type": "code",
   "execution_count": null,
   "id": "88884292-7fa6-41b8-86ca-6d5532f2bd00",
   "metadata": {},
   "outputs": [],
   "source": [
    "itertools.combinations?"
   ]
  },
  {
   "cell_type": "code",
   "execution_count": null,
   "id": "60011d03-f6c2-401a-a73f-562e602b72ff",
   "metadata": {},
   "outputs": [],
   "source": [
    "probabilities.shape\n",
    "\n",
    "ax = sns.heatmap(probabilities[0].reshape(64, 8), linewidths=.5, cmap='rocket_r',\n",
    "                 cbar_kws={'label': 'Frequency'})"
   ]
  },
  {
   "cell_type": "code",
   "execution_count": null,
   "id": "30ec64eb-606f-4f67-be98-1603cb0457ae",
   "metadata": {},
   "outputs": [],
   "source": [
    "num_layers = len(np.unique(layer_ids))\n",
    "# print('num_layers', num_layers)\n",
    "\n",
    "num_experts = len(np.unique(list(itertools.chain.from_iterable(itertools.chain.from_iterable(expert_ids)))))\n",
    "# print('num_experts', num_experts)\n",
    "\n",
    "expert_counts_by_layer = np.zeros((num_layers, num_experts))\n",
    "for layer_id, exp_ids in zip(layer_ids, expert_ids):\n",
    "    # print(np.unique(exp_ids, return_counts=True))\n",
    "    exp_ids_flat = list(itertools.chain.from_iterable(exp_ids))\n",
    "    # print(np.bincount(exp_ids_flat + list(range(num_experts))) - 1)\n",
    "    counts = np.bincount(exp_ids_flat + list(range(num_experts))) - 1 # Ensure all experts are included.\n",
    "    expert_counts_by_layer[layer_id] += np.bincount(exp_ids_flat + list(range(num_experts)))\n",
    "\n",
    "# print(expert_counts_by_layer.sum(axis=1))\n",
    "ax = sns.heatmap(expert_counts_by_layer, linewidths=.5, cmap='rocket_r')\n",
    "ax.invert_yaxis()\n",
    "ax.set_yticks(0.5 + np.arange(0, 32, 4), np.arange(0, 32, 4))\n",
    "plt.xlabel(\"Expert ID\")\n",
    "plt.ylabel(\"Layer\")"
   ]
  },
  {
   "cell_type": "code",
   "execution_count": null,
   "id": "4435e711-3448-42e9-917d-fa00a7dc11dd",
   "metadata": {},
   "outputs": [],
   "source": [
    "counts.sum(axis=-1).shape"
   ]
  },
  {
   "cell_type": "code",
   "execution_count": null,
   "id": "7681cff8-7653-4665-86b9-0fd218c5ce04",
   "metadata": {},
   "outputs": [],
   "source": [
    "counts.shape"
   ]
  },
  {
   "cell_type": "code",
   "execution_count": null,
   "id": "dcdf9405-1dea-4488-b886-00a13e6da75b",
   "metadata": {},
   "outputs": [],
   "source": [
    "trace = traces['MTBench-Mixtral/139916901616816.txt']\n",
    "for i, x in enumerate([len(e_ids) for e_ids in trace.expert_ids]):\n",
    "    if x > 1:\n",
    "        print(i)\n"
   ]
  },
  {
   "cell_type": "code",
   "execution_count": null,
   "id": "adc65bc6-9690-4daf-961b-ed613fca7c26",
   "metadata": {},
   "outputs": [],
   "source": [
    "a = np.zeros((2, 2, 2))\n",
    "a[0, [0, 1], 0] += 1\n",
    "a[0, :, 0]"
   ]
  },
  {
   "cell_type": "code",
   "execution_count": null,
   "id": "de447c12-c267-4d51-8595-2e381afc2cbb",
   "metadata": {},
   "outputs": [],
   "source": [
    "@dataclass(frozen=True)\n",
    "class Invocation:\n",
    "    layer_id: int\n",
    "    input_ids: np.ndarray\n",
    "    expert_ids: np.ndarray\n",
    "\n",
    "def groupby_invocations(layer_ids, input_ids, expert_ids):\n",
    "    return [\n",
    "            Invocation(\n",
    "                layer_id=layer_id,\n",
    "                input_ids=np.array(inp_ids),\n",
    "                expert_ids=np.array(exp_ids),\n",
    "            )\n",
    "            for layer_id, inp_ids, exp_ids in zip(layer_ids, input_ids, expert_ids)\n",
    "        ]\n",
    "\n",
    "invocations = groupby_invocations(layer_ids, input_ids, expert_ids)"
   ]
  },
  {
   "cell_type": "code",
   "execution_count": null,
   "id": "6d78e9a5-4856-492a-98df-b705562233df",
   "metadata": {},
   "outputs": [],
   "source": [
    "invocations[0] "
   ]
  },
  {
   "cell_type": "code",
   "execution_count": null,
   "id": "26e8ba8e-1486-42f1-999c-d9062b18c0f5",
   "metadata": {},
   "outputs": [],
   "source": []
  }
 ],
 "metadata": {
  "kernelspec": {
   "display_name": "Python 3 (ipykernel)",
   "language": "python",
   "name": "python3"
  },
  "language_info": {
   "codemirror_mode": {
    "name": "ipython",
    "version": 3
   },
   "file_extension": ".py",
   "mimetype": "text/x-python",
   "name": "python",
   "nbconvert_exporter": "python",
   "pygments_lexer": "ipython3",
   "version": "3.11.6"
  }
 },
 "nbformat": 4,
 "nbformat_minor": 5
}
